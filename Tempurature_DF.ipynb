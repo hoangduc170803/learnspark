{
 "cells": [
  {
   "cell_type": "code",
   "execution_count": 15,
   "metadata": {},
   "outputs": [],
   "source": [
    "from pyspark.sql import SparkSession\n",
    "from pyspark.sql import functions as func\n",
    "from pyspark.sql.types import StructType, StringType, StructField, IntegerType, FloatType\n",
    "from pyspark.sql.functions import *\n",
    "\n",
    "spark = SparkSession.builder.appName(\"Mintempuratures\").getOrCreate()"
   ]
  },
  {
   "cell_type": "code",
   "execution_count": 16,
   "metadata": {},
   "outputs": [
    {
     "name": "stdout",
     "output_type": "stream",
     "text": [
      "+-----------+--------+------------+-----------+\n",
      "|  stationID|    date|measure_type|temperature|\n",
      "+-----------+--------+------------+-----------+\n",
      "|ITE00100554|18000101|        TMAX|      -75.0|\n",
      "|ITE00100554|18000101|        TMIN|     -148.0|\n",
      "|GM000010962|18000101|        PRCP|        0.0|\n",
      "|EZE00100082|18000101|        TMAX|      -86.0|\n",
      "|EZE00100082|18000101|        TMIN|     -135.0|\n",
      "|ITE00100554|18000102|        TMAX|      -60.0|\n",
      "|ITE00100554|18000102|        TMIN|     -125.0|\n",
      "|GM000010962|18000102|        PRCP|        0.0|\n",
      "|EZE00100082|18000102|        TMAX|      -44.0|\n",
      "|EZE00100082|18000102|        TMIN|     -130.0|\n",
      "|ITE00100554|18000103|        TMAX|      -23.0|\n",
      "|ITE00100554|18000103|        TMIN|      -46.0|\n",
      "|GM000010962|18000103|        PRCP|        4.0|\n",
      "|EZE00100082|18000103|        TMAX|      -10.0|\n",
      "|EZE00100082|18000103|        TMIN|      -73.0|\n",
      "|ITE00100554|18000104|        TMAX|        0.0|\n",
      "|ITE00100554|18000104|        TMIN|      -13.0|\n",
      "|GM000010962|18000104|        PRCP|        0.0|\n",
      "|EZE00100082|18000104|        TMAX|      -55.0|\n",
      "|EZE00100082|18000104|        TMIN|      -74.0|\n",
      "+-----------+--------+------------+-----------+\n",
      "only showing top 20 rows\n",
      "\n"
     ]
    }
   ],
   "source": [
    "#sử dụng spark.read.csv, nó đã tự động trả về một DataFrame\n",
    "#header=False: Mặc định, PySpark sẽ coi dòng đầu tiên trong tệp CSV là một phần của dữ liệu và không phải là tiêu đề của các cột.\n",
    "df1 = spark.read.csv(\"file:///SparkCourse/1800.csv\", schema=\"stationID String, date int, measure_type STRING, temperature float\", header=False)\n",
    "df1.show()"
   ]
  },
  {
   "cell_type": "code",
   "execution_count": 17,
   "metadata": {},
   "outputs": [
    {
     "name": "stdout",
     "output_type": "stream",
     "text": [
      "+-----------+-----------+\n",
      "|  stationID|temperature|\n",
      "+-----------+-----------+\n",
      "|ITE00100554|     -148.0|\n",
      "|EZE00100082|     -135.0|\n",
      "|ITE00100554|     -125.0|\n",
      "|EZE00100082|     -130.0|\n",
      "|ITE00100554|      -46.0|\n",
      "|EZE00100082|      -73.0|\n",
      "|ITE00100554|      -13.0|\n",
      "|EZE00100082|      -74.0|\n",
      "|ITE00100554|       -6.0|\n",
      "|EZE00100082|      -58.0|\n",
      "|ITE00100554|       13.0|\n",
      "|EZE00100082|      -57.0|\n",
      "|ITE00100554|       10.0|\n",
      "|EZE00100082|      -50.0|\n",
      "|ITE00100554|       14.0|\n",
      "|EZE00100082|      -31.0|\n",
      "|ITE00100554|       23.0|\n",
      "|EZE00100082|      -46.0|\n",
      "|ITE00100554|       31.0|\n",
      "|EZE00100082|      -75.0|\n",
      "+-----------+-----------+\n",
      "only showing top 20 rows\n",
      "\n"
     ]
    }
   ],
   "source": [
    "minTemps = df1.filter(df1.measure_type == \"TMIN\")\n",
    "\n",
    "stationTemps = minTemps.select(\"stationID\",\"temperature\")\n",
    "stationTemps.show()\n"
   ]
  },
  {
   "cell_type": "code",
   "execution_count": 18,
   "metadata": {},
   "outputs": [
    {
     "name": "stdout",
     "output_type": "stream",
     "text": [
      "+-----------+----------------+\n",
      "|  stationID|min(temperature)|\n",
      "+-----------+----------------+\n",
      "|ITE00100554|          -148.0|\n",
      "|EZE00100082|          -135.0|\n",
      "+-----------+----------------+\n",
      "\n"
     ]
    }
   ],
   "source": [
    "minTempsByStation = stationTemps.groupBy(\"stationID\").min(\"temperature\")\n",
    "minTempsByStation.show()"
   ]
  },
  {
   "cell_type": "code",
   "execution_count": 26,
   "metadata": {},
   "outputs": [
    {
     "name": "stdout",
     "output_type": "stream",
     "text": [
      "+-----------+------------------+\n",
      "|  stationID|  min(temperature)|\n",
      "+-----------+------------------+\n",
      "|ITE00100554|             -10.0|\n",
      "|EZE00100082|-9.277777777777779|\n",
      "+-----------+------------------+\n",
      "\n",
      "ITE00100554 \t  -10.0\n",
      "EZE00100082 \t  -9.277777777777779\n"
     ]
    }
   ],
   "source": [
    "minTempsByStationF = minTempsByStation.withColumn(\"min(temperature)\",(col(\"min(temperature)\") - 32) * 0.1 * 5.0/9.0).sort(\"min(temperature)\")\n",
    "minTempsByStationF.show()\n",
    "results = minTempsByStationF.collect()\n",
    "for result in results:\n",
    "    print(f\"{result[0]} \\t  {result[1]}\")"
   ]
  }
 ],
 "metadata": {
  "kernelspec": {
   "display_name": "Python 3",
   "language": "python",
   "name": "python3"
  },
  "language_info": {
   "codemirror_mode": {
    "name": "ipython",
    "version": 3
   },
   "file_extension": ".py",
   "mimetype": "text/x-python",
   "name": "python",
   "nbconvert_exporter": "python",
   "pygments_lexer": "ipython3",
   "version": "3.10.11"
  }
 },
 "nbformat": 4,
 "nbformat_minor": 2
}
