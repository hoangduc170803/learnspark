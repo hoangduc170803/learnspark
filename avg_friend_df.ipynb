{
 "cells": [
  {
   "cell_type": "code",
   "execution_count": 12,
   "metadata": {},
   "outputs": [],
   "source": [
    "from pyspark.sql import SparkSession\n",
    "from pyspark.sql.functions import *\n",
    "\n",
    "spark = SparkSession.builder.appName(\"DF_for_schema\").getOrCreate()"
   ]
  },
  {
   "cell_type": "code",
   "execution_count": 7,
   "metadata": {},
   "outputs": [],
   "source": [
    "df = spark.read.option(\"header\",\"true\").option(\"inferschema\",\"true\").csv(\"C:\\SparkCourse/fakefriends-header.csv\")"
   ]
  },
  {
   "cell_type": "code",
   "execution_count": 28,
   "metadata": {},
   "outputs": [
    {
     "name": "stdout",
     "output_type": "stream",
     "text": [
      "+---+----------+\n",
      "|age|friend_avg|\n",
      "+---+----------+\n",
      "| 18|    343.38|\n",
      "| 19|    213.27|\n",
      "| 20|     165.0|\n",
      "| 21|    350.88|\n",
      "| 22|    206.43|\n",
      "| 23|     246.3|\n",
      "| 24|     233.8|\n",
      "| 25|    197.45|\n",
      "| 26|    242.06|\n",
      "| 27|    228.13|\n",
      "| 28|     209.1|\n",
      "| 29|    215.92|\n",
      "| 30|    235.82|\n",
      "| 31|    267.25|\n",
      "| 32|    207.91|\n",
      "| 33|    325.33|\n",
      "| 34|     245.5|\n",
      "| 35|    211.63|\n",
      "| 36|     246.6|\n",
      "| 37|    249.33|\n",
      "+---+----------+\n",
      "only showing top 20 rows\n",
      "\n"
     ]
    }
   ],
   "source": [
    "# df.show()\n",
    "# df.select(\"userID\",\"name\")\n",
    "# df.groupBy(\"age\").agg(round(avg(\"friends\"), 2)).sort(\"age\").show()\n",
    "\n",
    "df.groupBy(\"age\").agg(round(avg(\"friends\"), 2).alias(\"friend_avg\")).sort(\"age\").show()\n"
   ]
  }
 ],
 "metadata": {
  "kernelspec": {
   "display_name": "Python 3",
   "language": "python",
   "name": "python3"
  },
  "language_info": {
   "codemirror_mode": {
    "name": "ipython",
    "version": 3
   },
   "file_extension": ".py",
   "mimetype": "text/x-python",
   "name": "python",
   "nbconvert_exporter": "python",
   "pygments_lexer": "ipython3",
   "version": "3.10.11"
  }
 },
 "nbformat": 4,
 "nbformat_minor": 2
}
